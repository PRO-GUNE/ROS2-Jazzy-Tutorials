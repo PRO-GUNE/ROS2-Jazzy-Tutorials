{
 "cells": [
  {
   "cell_type": "code",
   "execution_count": null,
   "id": "e4267de4-6c31-487a-92a7-824275b55d4f",
   "metadata": {},
   "outputs": [],
   "source": [
    "# Homogenous 3D Transformation\n",
    "def homogenous_transform_3D(V:np.ndarray, U:np.ndarray, theta:dict) -> np.ndarray:\n",
    "    \"\"\"\n",
    "    Input:\n",
    "        V       - initial vector\n",
    "        U       - translation vector\n",
    "        theta   - dictionary of angles with the 'x', 'y' and 'z' angles\n",
    "    Output: resulting coordinates after rotating V by theta and translating by U\n",
    "    \"\"\"\n",
    "\n",
    "    # Your code here"
   ]
  },
  {
   "cell_type": "code",
   "execution_count": null,
   "id": "65c7d12e-ffd1-4758-8c34-c824f81a6d9f",
   "metadata": {},
   "outputs": [],
   "source": [
    "Task: Implement a function that applies a 3D transformation matrix to a point in 3D.\n",
    "Expected Output: Given a vector (2,3,4) appying a translation of (4,5,6) and a rotation of theta = 90° about the z-axis the transformed point should be (5,7,9)."
   ]
  },
  {
   "cell_type": "code",
   "execution_count": null,
   "id": "2cca7f1d-95cf-47e9-95d3-76e6496ab044",
   "metadata": {},
   "outputs": [],
   "source": [
    "lab_tester.test_homogeneous_transform_3d(homogenous_transform_3D)"
   ]
  }
 ],
 "metadata": {
  "kernelspec": {
   "display_name": "Python 3 (ipykernel)",
   "language": "python",
   "name": "python3"
  },
  "language_info": {
   "codemirror_mode": {
    "name": "ipython",
    "version": 3
   },
   "file_extension": ".py",
   "mimetype": "text/x-python",
   "name": "python",
   "nbconvert_exporter": "python",
   "pygments_lexer": "ipython3",
   "version": "3.12.3"
  }
 },
 "nbformat": 4,
 "nbformat_minor": 5
}
